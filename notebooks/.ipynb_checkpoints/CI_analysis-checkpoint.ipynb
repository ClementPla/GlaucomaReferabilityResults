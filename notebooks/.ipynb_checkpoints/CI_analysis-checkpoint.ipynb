{
 "cells": [
  {
   "cell_type": "code",
   "execution_count": 1,
   "id": "7b295cbe-bd58-4f3b-985c-343b10a4ea0a",
   "metadata": {},
   "outputs": [],
   "source": [
    "import pandas as pd\n",
    "import matplotlib.pyplot as plt\n",
    "import numpy as np\n",
    "import sklearn\n",
    "from sklearn.metrics import roc_curve, roc_auc_score, confusion_matrix, classification_report, recall_score, precision_score, confusion_matrix\n"
   ]
  },
  {
   "cell_type": "code",
   "execution_count": 2,
   "id": "7407ff08-8cf5-493b-9939-8ff48343150f",
   "metadata": {},
   "outputs": [],
   "source": [
    "airogs = pd.read_pickle('airogs_df')\n",
    "refuge = pd.read_pickle('refuge_df')\n",
    "gamma = pd.read_pickle('gamma_df')\n",
    "all_datasets = {'AIROGS': airogs, 'REFUGE': refuge, 'GAMMA': gamma}\n"
   ]
  },
  {
   "cell_type": "code",
   "execution_count": 3,
   "id": "6d4b4216-5c2a-48fd-a504-ef3e5b0d6360",
   "metadata": {},
   "outputs": [],
   "source": [
    "class Metric:\n",
    "    threshold = 0.5\n",
    "    def metrics(self, ):\n",
    "        return {'AUROC':self.auroc, 'Sens@95Spec': self.sens95spec, 'Recall': self.recall, 'Precision': self.precision, 'Specificity': self.specificity, 'NPV': self.npv}\n",
    "    def sens95spec(self, y, probas):\n",
    "        fpr, tpr, _ = roc_curve(y, probas, drop_intermediate=True)\n",
    "        spec95, spec95idx = find_nearest(fpr, 0.05)\n",
    "        sens95 = tpr[spec95idx]\n",
    "        return sens95\n",
    "    def auroc(self, y, probas):\n",
    "        auroc = roc_auc_score(y, probas)\n",
    "        return auroc\n",
    "    def specificity(self, y, probas):\n",
    "        confMat = confusion_matrix(y, probas>self.threshold)\n",
    "        tn, fp, fn, tp = confMat.ravel()\n",
    "        specificity = tn / (tn+fp)\n",
    "        return specificity\n",
    "    def npv(self, y, probas):\n",
    "        confMat = confusion_matrix(y, probas>self.threshold)\n",
    "        tn, fp, fn, tp = confMat.ravel()\n",
    "        pn = fn + tn\n",
    "        return tn/pn\n",
    "    def precision(self, y, probas):\n",
    "        return precision_score(y, probas>self.threshold)\n",
    "    def recall(self, y, probas):\n",
    "        return recall_score(y, probas>self.threshold)\n",
    "\n",
    "def find_nearest(array, value):\n",
    "    array = np.asarray(array)\n",
    "    idx = (np.abs(array - value)).argmin()\n",
    "    arr_value = array[idx]\n",
    "    return  arr_value, idx\n",
    "\n"
   ]
  },
  {
   "cell_type": "code",
   "execution_count": 4,
   "id": "9e14ac36-7d63-44c9-b7b3-66785ca28830",
   "metadata": {},
   "outputs": [],
   "source": [
    "def boostrap_CI(y, probas, n_samples, metric):\n",
    "    scores = []\n",
    "    ref = metric(y, probas)\n",
    "    N = len(y)\n",
    "    for i in range(n_samples):\n",
    "        indices = np.random.randint(0, N, N)\n",
    "        y_sampled = y[indices]\n",
    "        probas_sampled = probas[indices]\n",
    "        score = metric(y_sampled, probas_sampled)\n",
    "        scores.append(score)\n",
    "    # calculate 95% confidence intervals (100 - alpha)\n",
    "    alpha = 5.0\n",
    "    # calculate lower percentile (e.g. 2.5)\n",
    "    lower_p = alpha / 2.0\n",
    "    upper_p = (100 - alpha) + (alpha / 2.0)\n",
    "    median = np.median(scores)\n",
    "    lower = max(0.0, np.percentile(scores, lower_p))\n",
    "    upper = min(1.0, np.percentile(scores, upper_p))\n",
    "    return ref, median, lower, upper"
   ]
  },
  {
   "cell_type": "code",
   "execution_count": 5,
   "id": "b98072bd-cbc5-4ded-b544-2d839123c93c",
   "metadata": {},
   "outputs": [],
   "source": [
    "metric = Metric()\n",
    "all_scores = {}\n",
    "thresholds = [0.1, 0.3, 0.5]\n",
    "for mname, m in metric.metrics().items():\n",
    "    for dname, data in all_datasets.items():\n",
    "        for t in thresholds:\n",
    "            metric.threshold = t\n",
    "            ref, median, lower, upper = boostrap_CI(data['Label'], data['Positive pred'], 2000, m)\n",
    "\n",
    "            col = f\"{mname} (t={t:.1f})\"\n",
    "            col_low_CI = f\"{col} 95-CI lower\"\n",
    "            col_up_CI = f\"{col} 95-CI upper\"\n",
    "            if col not in all_scores:\n",
    "                all_scores[col] = []\n",
    "                all_scores[col_low_CI] = []\n",
    "                all_scores[col_up_CI] = []\n",
    "            all_scores[col].append(ref)\n",
    "            all_scores[col_low_CI].append(lower)\n",
    "            all_scores[col_up_CI].append(upper)\n",
    "            "
   ]
  },
  {
   "cell_type": "code",
   "execution_count": 6,
   "id": "f2e1e42d-747b-4c89-83f5-c072388b8b42",
   "metadata": {},
   "outputs": [],
   "source": [
    "all_scores['datasets'] = list(all_datasets.keys())\n"
   ]
  },
  {
   "cell_type": "code",
   "execution_count": 7,
   "id": "3dee8f16-7d54-45df-a733-d9811b667d4b",
   "metadata": {},
   "outputs": [],
   "source": [
    "df = pd.DataFrame.from_dict(all_scores)\n",
    "df = df.set_index('datasets')\n",
    "df.to_excel('all_scores.xlsx')"
   ]
  },
  {
   "cell_type": "code",
   "execution_count": 13,
   "id": "b8daa160-b0fb-47b2-8669-86a9b0de8c58",
   "metadata": {},
   "outputs": [],
   "source": [
    "from bokeh.io import output_file, show, output_notebook, export_png\n",
    "from bokeh.models import ColumnDataSource, FactorRange\n",
    "from bokeh.plotting import figure\n",
    "from bokeh.layouts import gridplot"
   ]
  },
  {
   "cell_type": "code",
   "execution_count": 18,
   "id": "2c00e52d-99a9-47a2-9cbc-160365fcc635",
   "metadata": {},
   "outputs": [
    {
     "ename": "AttributeError",
     "evalue": "unexpected attribute 'toolbar_options' to figure, similar attributes are toolbar_location, toolbar_inner or toolbar_sticky",
     "output_type": "error",
     "traceback": [
      "\u001b[0;31m---------------------------------------------------------------------------\u001b[0m",
      "\u001b[0;31mAttributeError\u001b[0m                            Traceback (most recent call last)",
      "Cell \u001b[0;32mIn[18], line 17\u001b[0m\n\u001b[1;32m     15\u001b[0m ys_ci_upper \u001b[38;5;241m=\u001b[39m [_\u001b[38;5;241m.\u001b[39mtolist() \u001b[38;5;28;01mfor\u001b[39;00m _ \u001b[38;5;129;01min\u001b[39;00m np\u001b[38;5;241m.\u001b[39msplit(np\u001b[38;5;241m.\u001b[39masarray(y_ci_upper), \u001b[38;5;241m3\u001b[39m)]\n\u001b[1;32m     16\u001b[0m source \u001b[38;5;241m=\u001b[39m ColumnDataSource(data\u001b[38;5;241m=\u001b[39m\u001b[38;5;28mdict\u001b[39m(x\u001b[38;5;241m=\u001b[39mx, y\u001b[38;5;241m=\u001b[39my, y_ci_low\u001b[38;5;241m=\u001b[39my_ci_lower, y_ci_up\u001b[38;5;241m=\u001b[39my_ci_upper))\n\u001b[0;32m---> 17\u001b[0m p \u001b[38;5;241m=\u001b[39m \u001b[43mfigure\u001b[49m\u001b[43m(\u001b[49m\u001b[43mx_range\u001b[49m\u001b[38;5;241;43m=\u001b[39;49m\u001b[43mFactorRange\u001b[49m\u001b[43m(\u001b[49m\u001b[38;5;241;43m*\u001b[39;49m\u001b[43mx\u001b[49m\u001b[43m)\u001b[49m\u001b[43m,\u001b[49m\u001b[43m \u001b[49m\u001b[43mheight\u001b[49m\u001b[38;5;241;43m=\u001b[39;49m\u001b[38;5;241;43m250\u001b[39;49m\u001b[43m,\u001b[49m\u001b[43m \u001b[49m\u001b[43mtitle\u001b[49m\u001b[38;5;241;43m=\u001b[39;49m\u001b[38;5;124;43mf\u001b[39;49m\u001b[38;5;124;43m\"\u001b[39;49m\u001b[38;5;132;43;01m{\u001b[39;49;00m\u001b[43mmname\u001b[49m\u001b[38;5;132;43;01m}\u001b[39;49;00m\u001b[38;5;124;43m\"\u001b[39;49m\u001b[43m,\u001b[49m\u001b[43m \u001b[49m\u001b[43my_range\u001b[49m\u001b[38;5;241;43m=\u001b[39;49m\u001b[43m(\u001b[49m\u001b[38;5;241;43m0.5\u001b[39;49m\u001b[43m,\u001b[49m\u001b[43m \u001b[49m\u001b[38;5;241;43m1.1\u001b[39;49m\u001b[43m)\u001b[49m\u001b[43m,\u001b[49m\n\u001b[1;32m     18\u001b[0m \u001b[43m       \u001b[49m\u001b[43mtoolbar_location\u001b[49m\u001b[38;5;241;43m=\u001b[39;49m\u001b[38;5;28;43;01mNone\u001b[39;49;00m\u001b[43m,\u001b[49m\u001b[43m \u001b[49m\u001b[43mtoolbar_options\u001b[49m\u001b[38;5;241;43m=\u001b[39;49m\u001b[38;5;28;43mdict\u001b[39;49m\u001b[43m(\u001b[49m\u001b[43mlogo\u001b[49m\u001b[38;5;241;43m=\u001b[39;49m\u001b[38;5;28;43;01mNone\u001b[39;49;00m\u001b[43m)\u001b[49m\u001b[43m,\u001b[49m\u001b[43m \u001b[49m\u001b[43mtools\u001b[49m\u001b[38;5;241;43m=\u001b[39;49m\u001b[38;5;124;43m\"\u001b[39;49m\u001b[38;5;124;43m\"\u001b[39;49m\u001b[43m)\u001b[49m\n\u001b[1;32m     20\u001b[0m colors \u001b[38;5;241m=\u001b[39m [\u001b[38;5;124m\"\u001b[39m\u001b[38;5;124m#179299\u001b[39m\u001b[38;5;124m\"\u001b[39m, \u001b[38;5;124m\"\u001b[39m\u001b[38;5;124m#d20f39\u001b[39m\u001b[38;5;124m\"\u001b[39m, \u001b[38;5;124m'\u001b[39m\u001b[38;5;124m#40a02b\u001b[39m\u001b[38;5;124m'\u001b[39m]\n\u001b[1;32m     21\u001b[0m \u001b[38;5;28;01mfor\u001b[39;00m i \u001b[38;5;129;01min\u001b[39;00m \u001b[38;5;28mrange\u001b[39m(\u001b[38;5;241m3\u001b[39m):\n",
      "File \u001b[0;32m~/miniconda3/lib/python3.10/site-packages/bokeh/plotting/_figure.py:192\u001b[0m, in \u001b[0;36mfigure.__init__\u001b[0;34m(self, *arg, **kw)\u001b[0m\n\u001b[1;32m    190\u001b[0m \u001b[38;5;28;01mfor\u001b[39;00m name \u001b[38;5;129;01min\u001b[39;00m kw\u001b[38;5;241m.\u001b[39mkeys():\n\u001b[1;32m    191\u001b[0m     \u001b[38;5;28;01mif\u001b[39;00m name \u001b[38;5;129;01mnot\u001b[39;00m \u001b[38;5;129;01min\u001b[39;00m names:\n\u001b[0;32m--> 192\u001b[0m         \u001b[38;5;28;43mself\u001b[39;49m\u001b[38;5;241;43m.\u001b[39;49m\u001b[43m_raise_attribute_error_with_matches\u001b[49m\u001b[43m(\u001b[49m\u001b[43mname\u001b[49m\u001b[43m,\u001b[49m\u001b[43m \u001b[49m\u001b[43mnames\u001b[49m\u001b[43m \u001b[49m\u001b[38;5;241;43m|\u001b[39;49m\u001b[43m \u001b[49m\u001b[43mopts\u001b[49m\u001b[38;5;241;43m.\u001b[39;49m\u001b[43mproperties\u001b[49m\u001b[43m(\u001b[49m\u001b[43m)\u001b[49m\u001b[43m)\u001b[49m\n\u001b[1;32m    194\u001b[0m \u001b[38;5;28msuper\u001b[39m()\u001b[38;5;241m.\u001b[39m\u001b[38;5;21m__init__\u001b[39m(\u001b[38;5;241m*\u001b[39marg, \u001b[38;5;241m*\u001b[39m\u001b[38;5;241m*\u001b[39mkw)\n\u001b[1;32m    196\u001b[0m \u001b[38;5;28mself\u001b[39m\u001b[38;5;241m.\u001b[39mx_range \u001b[38;5;241m=\u001b[39m get_range(opts\u001b[38;5;241m.\u001b[39mx_range)\n",
      "File \u001b[0;32m~/miniconda3/lib/python3.10/site-packages/bokeh/core/has_props.py:368\u001b[0m, in \u001b[0;36mHasProps._raise_attribute_error_with_matches\u001b[0;34m(self, name, properties)\u001b[0m\n\u001b[1;32m    365\u001b[0m \u001b[38;5;28;01mif\u001b[39;00m \u001b[38;5;129;01mnot\u001b[39;00m matches:\n\u001b[1;32m    366\u001b[0m     matches, text \u001b[38;5;241m=\u001b[39m \u001b[38;5;28msorted\u001b[39m(properties), \u001b[38;5;124m\"\u001b[39m\u001b[38;5;124mpossible\u001b[39m\u001b[38;5;124m\"\u001b[39m\n\u001b[0;32m--> 368\u001b[0m \u001b[38;5;28;01mraise\u001b[39;00m \u001b[38;5;167;01mAttributeError\u001b[39;00m(\u001b[38;5;124mf\u001b[39m\u001b[38;5;124m\"\u001b[39m\u001b[38;5;124munexpected attribute \u001b[39m\u001b[38;5;132;01m{\u001b[39;00mname\u001b[38;5;132;01m!r}\u001b[39;00m\u001b[38;5;124m to \u001b[39m\u001b[38;5;132;01m{\u001b[39;00m\u001b[38;5;28mself\u001b[39m\u001b[38;5;241m.\u001b[39m\u001b[38;5;18m__class__\u001b[39m\u001b[38;5;241m.\u001b[39m\u001b[38;5;18m__name__\u001b[39m\u001b[38;5;132;01m}\u001b[39;00m\u001b[38;5;124m, \u001b[39m\u001b[38;5;132;01m{\u001b[39;00mtext\u001b[38;5;132;01m}\u001b[39;00m\u001b[38;5;124m attributes are \u001b[39m\u001b[38;5;132;01m{\u001b[39;00mnice_join(matches)\u001b[38;5;132;01m}\u001b[39;00m\u001b[38;5;124m\"\u001b[39m)\n",
      "\u001b[0;31mAttributeError\u001b[0m: unexpected attribute 'toolbar_options' to figure, similar attributes are toolbar_location, toolbar_inner or toolbar_sticky"
     ]
    }
   ],
   "source": [
    "datasets = list(df.index)\n",
    "metrics = ['Specificity', 'Recall', 'Precision', 'NPV']\n",
    "all_plots = []\n",
    "for mname in metrics:\n",
    "    x = [(d, f\"{t:.1f}\") for d in datasets for t in thresholds]\n",
    "    \n",
    "    xs = [_.tolist() for _ in np.split(np.asarray(x), 3)]\n",
    "    \n",
    "    y = [df[f\"{mname} (t={t:.1f})\"][d] for d in datasets for t in thresholds]\n",
    "    y_ci_lower = [df[f\"{mname} (t={t:.1f}) 95-CI lower\"][d] for d in datasets for t in thresholds]\n",
    "    y_ci_upper = [df[f\"{mname} (t={t:.1f}) 95-CI upper\"][d] for d in datasets for t in thresholds]\n",
    "    ys =  [_.tolist() for _ in np.split(np.asarray(y), 3)]\n",
    "    \n",
    "    ys_ci_lower = [_.tolist() for _ in np.split(np.asarray(y_ci_lower), 3)]\n",
    "    ys_ci_upper = [_.tolist() for _ in np.split(np.asarray(y_ci_upper), 3)]\n",
    "    source = ColumnDataSource(data=dict(x=x, y=y, y_ci_low=y_ci_lower, y_ci_up=y_ci_upper))\n",
    "    p = figure(x_range=FactorRange(*x), height=250, title=f\"{mname}\", y_range=(0.5, 1.1),\n",
    "           toolbar_location=None,tools=\"\")\n",
    "    \n",
    "    colors = [\"#179299\", \"#d20f39\", '#40a02b']\n",
    "    for i in range(3):\n",
    "        p.varea(x=xs[i], y1=ys_ci_lower[i], y2=ys_ci_upper[i], alpha=0.15, fill_color=colors[i])\n",
    "        p.scatter(x=xs[i], y=ys[i], color=colors[i])\n",
    "    p.multi_line(xs=xs, ys=ys, width=1.2, color=colors, line_width=2)\n",
    "    all_plots.append(p)\n",
    "all_plots = [_.tolist() for _ in np.split(np.asarray(all_plots), 2)]\n",
    "grid = gridplot(all_plots, toolbar_options=dict(logo=None), merge_tools=True,)"
   ]
  },
  {
   "cell_type": "code",
   "execution_count": null,
   "id": "5a443a8a-ebf5-462d-bc91-12733563cd47",
   "metadata": {},
   "outputs": [],
   "source": [
    "output_notebook()\n",
    "show(grid)"
   ]
  },
  {
   "cell_type": "code",
   "execution_count": 15,
   "id": "3780b553-4192-4845-a567-e591c7327784",
   "metadata": {},
   "outputs": [
    {
     "data": {
      "text/plain": [
       "'/home/clement/Documents/postdoc/Glaucoma_referability/notebooks/all_metrics.png'"
      ]
     },
     "execution_count": 15,
     "metadata": {},
     "output_type": "execute_result"
    }
   ],
   "source": [
    "export_png(grid, filename='all_metrics.png')"
   ]
  },
  {
   "cell_type": "code",
   "execution_count": null,
   "id": "9b242162-ad92-4864-9443-8f0a63a5b3a0",
   "metadata": {},
   "outputs": [],
   "source": []
  }
 ],
 "metadata": {
  "kernelspec": {
   "display_name": "Python 3 (ipykernel)",
   "language": "python",
   "name": "python3"
  },
  "language_info": {
   "codemirror_mode": {
    "name": "ipython",
    "version": 3
   },
   "file_extension": ".py",
   "mimetype": "text/x-python",
   "name": "python",
   "nbconvert_exporter": "python",
   "pygments_lexer": "ipython3",
   "version": "3.10.12"
  }
 },
 "nbformat": 4,
 "nbformat_minor": 5
}
